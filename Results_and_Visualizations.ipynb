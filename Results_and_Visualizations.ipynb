{
  "nbformat": 4,
  "nbformat_minor": 0,
  "metadata": {
    "colab": {
      "provenance": []
    },
    "kernelspec": {
      "name": "python3",
      "display_name": "Python 3"
    },
    "language_info": {
      "name": "python"
    }
  },
  "cells": [
    {
      "cell_type": "code",
      "source": [
        "import gdown\n",
        "\n",
        "url = 'https://drive.google.com/file/d/1Dh3ejE9GNg8jMBSaAF6Vx7q_79fGaBDZ/view?usp=sharing'\n",
        "output = '/content/final_cited_by_years_type_cat.csv'\n",
        "gdown.download(url=url, output=output, quiet=False, fuzzy=True)"
      ],
      "metadata": {
        "colab": {
          "base_uri": "https://localhost:8080/",
          "height": 104
        },
        "id": "x3JCJt-ubttD",
        "outputId": "9ee6dbaa-b679-45d2-9722-077678b3db58"
      },
      "execution_count": 11,
      "outputs": [
        {
          "output_type": "stream",
          "name": "stderr",
          "text": [
            "Downloading...\n",
            "From: https://drive.google.com/uc?id=1Dh3ejE9GNg8jMBSaAF6Vx7q_79fGaBDZ\n",
            "To: /content/final_cited_by_years_type_cat.csv\n",
            "100%|██████████| 426M/426M [00:05<00:00, 74.6MB/s]\n"
          ]
        },
        {
          "output_type": "execute_result",
          "data": {
            "text/plain": [
              "'/content/final_cited_by_years_type_cat.csv'"
            ],
            "application/vnd.google.colaboratory.intrinsic+json": {
              "type": "string"
            }
          },
          "metadata": {},
          "execution_count": 11
        }
      ]
    },
    {
      "cell_type": "code",
      "source": [
        "import pandas as pd\n",
        "\n",
        "df = pd.read_csv('final_cited_by_years_type_cat.csv')"
      ],
      "metadata": {
        "id": "KiW8rtrkb8CT"
      },
      "execution_count": 12,
      "outputs": []
    },
    {
      "cell_type": "code",
      "source": [
        "df"
      ],
      "metadata": {
        "colab": {
          "base_uri": "https://localhost:8080/",
          "height": 606
        },
        "id": "jHPgRM7OcC4z",
        "outputId": "d6a2908a-06f4-4e05-da7b-c28507c73b3b"
      },
      "execution_count": 13,
      "outputs": [
        {
          "output_type": "execute_result",
          "data": {
            "text/plain": [
              "                     article_id_openalex  \\\n",
              "0        https://openalex.org/W100001730   \n",
              "1        https://openalex.org/W100014870   \n",
              "2       https://openalex.org/W1000585164   \n",
              "3       https://openalex.org/W1000603767   \n",
              "4       https://openalex.org/W1000951278   \n",
              "...                                  ...   \n",
              "895922   https://openalex.org/W997665189   \n",
              "895923   https://openalex.org/W998121512   \n",
              "895924    https://openalex.org/W99824525   \n",
              "895925   https://openalex.org/W998383075   \n",
              "895926    https://openalex.org/W99876827   \n",
              "\n",
              "                                     date_citation_counts  \\\n",
              "0       {'2004-12-21': 1, '2004-12-23': 1, '2005-08-21...   \n",
              "1       {'1996-02-21': 1, '1997-01-11': 1, '1997-01-14...   \n",
              "2       {'2015-10-22': 1, '2016-09-28': 1, '2016-10-21...   \n",
              "3       {'2011-06-11': 1, '2013-05-08': 1, '2013-10-24...   \n",
              "4                      {'2012-10-25': 1, '2013-11-08': 1}   \n",
              "...                                                   ...   \n",
              "895922                                  {'2016-03-17': 1}   \n",
              "895923  {'2015-05-29': 1, '2015-09-11': 1, '2016-04-04...   \n",
              "895924  {'2004-10-12': 1, '2004-12-25': 1, '2006-07-25...   \n",
              "895925  {'2015-05-28': 1, '2016-02-08': 1, '2017-04-12...   \n",
              "895926  {'1998-06-24': 1, '1999-03-31': 1, '1999-08-12...   \n",
              "\n",
              "       first_publication_date journal_publication_date     article_type  \\\n",
              "0                  2004-04-01               2004-01-01  journal-article   \n",
              "1                  1996-04-01               1996-07-01  journal-article   \n",
              "2                  2015-07-24               2016-02-16  journal-article   \n",
              "3                  2012-09-24               2013-02-13  journal-article   \n",
              "4                  2012-03-20               2012-03-20  journal-article   \n",
              "...                       ...                      ...              ...   \n",
              "895922             2015-07-17               2016-05-20  journal-article   \n",
              "895923             2015-07-23               2015-07-23  journal-article   \n",
              "895924             2003-09-15               2004-06-22  journal-article   \n",
              "895925             2013-11-28               2015-07-09  journal-article   \n",
              "895926             1998-06-11               1998-10-29  journal-article   \n",
              "\n",
              "                               categories  \n",
              "0       cond-mat.supr-con cond-mat.str-el  \n",
              "1                           q-alg math.QA  \n",
              "2                                  hep-ph  \n",
              "3                                quant-ph  \n",
              "4                                 stat.ME  \n",
              "...                                   ...  \n",
              "895922                 hep-ph astro-ph.HE  \n",
              "895923            astro-ph.SR astro-ph.EP  \n",
              "895924                    cond-mat.str-el  \n",
              "895925            astro-ph.HE astro-ph.CO  \n",
              "895926                      hep-ph hep-ex  \n",
              "\n",
              "[895927 rows x 6 columns]"
            ],
            "text/html": [
              "\n",
              "\n",
              "  <div id=\"df-7742445e-dfbb-4189-a708-cb1d9f2ccad6\">\n",
              "    <div class=\"colab-df-container\">\n",
              "      <div>\n",
              "<style scoped>\n",
              "    .dataframe tbody tr th:only-of-type {\n",
              "        vertical-align: middle;\n",
              "    }\n",
              "\n",
              "    .dataframe tbody tr th {\n",
              "        vertical-align: top;\n",
              "    }\n",
              "\n",
              "    .dataframe thead th {\n",
              "        text-align: right;\n",
              "    }\n",
              "</style>\n",
              "<table border=\"1\" class=\"dataframe\">\n",
              "  <thead>\n",
              "    <tr style=\"text-align: right;\">\n",
              "      <th></th>\n",
              "      <th>article_id_openalex</th>\n",
              "      <th>date_citation_counts</th>\n",
              "      <th>first_publication_date</th>\n",
              "      <th>journal_publication_date</th>\n",
              "      <th>article_type</th>\n",
              "      <th>categories</th>\n",
              "    </tr>\n",
              "  </thead>\n",
              "  <tbody>\n",
              "    <tr>\n",
              "      <th>0</th>\n",
              "      <td>https://openalex.org/W100001730</td>\n",
              "      <td>{'2004-12-21': 1, '2004-12-23': 1, '2005-08-21...</td>\n",
              "      <td>2004-04-01</td>\n",
              "      <td>2004-01-01</td>\n",
              "      <td>journal-article</td>\n",
              "      <td>cond-mat.supr-con cond-mat.str-el</td>\n",
              "    </tr>\n",
              "    <tr>\n",
              "      <th>1</th>\n",
              "      <td>https://openalex.org/W100014870</td>\n",
              "      <td>{'1996-02-21': 1, '1997-01-11': 1, '1997-01-14...</td>\n",
              "      <td>1996-04-01</td>\n",
              "      <td>1996-07-01</td>\n",
              "      <td>journal-article</td>\n",
              "      <td>q-alg math.QA</td>\n",
              "    </tr>\n",
              "    <tr>\n",
              "      <th>2</th>\n",
              "      <td>https://openalex.org/W1000585164</td>\n",
              "      <td>{'2015-10-22': 1, '2016-09-28': 1, '2016-10-21...</td>\n",
              "      <td>2015-07-24</td>\n",
              "      <td>2016-02-16</td>\n",
              "      <td>journal-article</td>\n",
              "      <td>hep-ph</td>\n",
              "    </tr>\n",
              "    <tr>\n",
              "      <th>3</th>\n",
              "      <td>https://openalex.org/W1000603767</td>\n",
              "      <td>{'2011-06-11': 1, '2013-05-08': 1, '2013-10-24...</td>\n",
              "      <td>2012-09-24</td>\n",
              "      <td>2013-02-13</td>\n",
              "      <td>journal-article</td>\n",
              "      <td>quant-ph</td>\n",
              "    </tr>\n",
              "    <tr>\n",
              "      <th>4</th>\n",
              "      <td>https://openalex.org/W1000951278</td>\n",
              "      <td>{'2012-10-25': 1, '2013-11-08': 1}</td>\n",
              "      <td>2012-03-20</td>\n",
              "      <td>2012-03-20</td>\n",
              "      <td>journal-article</td>\n",
              "      <td>stat.ME</td>\n",
              "    </tr>\n",
              "    <tr>\n",
              "      <th>...</th>\n",
              "      <td>...</td>\n",
              "      <td>...</td>\n",
              "      <td>...</td>\n",
              "      <td>...</td>\n",
              "      <td>...</td>\n",
              "      <td>...</td>\n",
              "    </tr>\n",
              "    <tr>\n",
              "      <th>895922</th>\n",
              "      <td>https://openalex.org/W997665189</td>\n",
              "      <td>{'2016-03-17': 1}</td>\n",
              "      <td>2015-07-17</td>\n",
              "      <td>2016-05-20</td>\n",
              "      <td>journal-article</td>\n",
              "      <td>hep-ph astro-ph.HE</td>\n",
              "    </tr>\n",
              "    <tr>\n",
              "      <th>895923</th>\n",
              "      <td>https://openalex.org/W998121512</td>\n",
              "      <td>{'2015-05-29': 1, '2015-09-11': 1, '2016-04-04...</td>\n",
              "      <td>2015-07-23</td>\n",
              "      <td>2015-07-23</td>\n",
              "      <td>journal-article</td>\n",
              "      <td>astro-ph.SR astro-ph.EP</td>\n",
              "    </tr>\n",
              "    <tr>\n",
              "      <th>895924</th>\n",
              "      <td>https://openalex.org/W99824525</td>\n",
              "      <td>{'2004-10-12': 1, '2004-12-25': 1, '2006-07-25...</td>\n",
              "      <td>2003-09-15</td>\n",
              "      <td>2004-06-22</td>\n",
              "      <td>journal-article</td>\n",
              "      <td>cond-mat.str-el</td>\n",
              "    </tr>\n",
              "    <tr>\n",
              "      <th>895925</th>\n",
              "      <td>https://openalex.org/W998383075</td>\n",
              "      <td>{'2015-05-28': 1, '2016-02-08': 1, '2017-04-12...</td>\n",
              "      <td>2013-11-28</td>\n",
              "      <td>2015-07-09</td>\n",
              "      <td>journal-article</td>\n",
              "      <td>astro-ph.HE astro-ph.CO</td>\n",
              "    </tr>\n",
              "    <tr>\n",
              "      <th>895926</th>\n",
              "      <td>https://openalex.org/W99876827</td>\n",
              "      <td>{'1998-06-24': 1, '1999-03-31': 1, '1999-08-12...</td>\n",
              "      <td>1998-06-11</td>\n",
              "      <td>1998-10-29</td>\n",
              "      <td>journal-article</td>\n",
              "      <td>hep-ph hep-ex</td>\n",
              "    </tr>\n",
              "  </tbody>\n",
              "</table>\n",
              "<p>895927 rows × 6 columns</p>\n",
              "</div>\n",
              "      <button class=\"colab-df-convert\" onclick=\"convertToInteractive('df-7742445e-dfbb-4189-a708-cb1d9f2ccad6')\"\n",
              "              title=\"Convert this dataframe to an interactive table.\"\n",
              "              style=\"display:none;\">\n",
              "\n",
              "  <svg xmlns=\"http://www.w3.org/2000/svg\" height=\"24px\"viewBox=\"0 0 24 24\"\n",
              "       width=\"24px\">\n",
              "    <path d=\"M0 0h24v24H0V0z\" fill=\"none\"/>\n",
              "    <path d=\"M18.56 5.44l.94 2.06.94-2.06 2.06-.94-2.06-.94-.94-2.06-.94 2.06-2.06.94zm-11 1L8.5 8.5l.94-2.06 2.06-.94-2.06-.94L8.5 2.5l-.94 2.06-2.06.94zm10 10l.94 2.06.94-2.06 2.06-.94-2.06-.94-.94-2.06-.94 2.06-2.06.94z\"/><path d=\"M17.41 7.96l-1.37-1.37c-.4-.4-.92-.59-1.43-.59-.52 0-1.04.2-1.43.59L10.3 9.45l-7.72 7.72c-.78.78-.78 2.05 0 2.83L4 21.41c.39.39.9.59 1.41.59.51 0 1.02-.2 1.41-.59l7.78-7.78 2.81-2.81c.8-.78.8-2.07 0-2.86zM5.41 20L4 18.59l7.72-7.72 1.47 1.35L5.41 20z\"/>\n",
              "  </svg>\n",
              "      </button>\n",
              "\n",
              "\n",
              "\n",
              "    <div id=\"df-a2f8960a-d877-4701-a096-433656e9f302\">\n",
              "      <button class=\"colab-df-quickchart\" onclick=\"quickchart('df-a2f8960a-d877-4701-a096-433656e9f302')\"\n",
              "              title=\"Suggest charts.\"\n",
              "              style=\"display:none;\">\n",
              "\n",
              "<svg xmlns=\"http://www.w3.org/2000/svg\" height=\"24px\"viewBox=\"0 0 24 24\"\n",
              "     width=\"24px\">\n",
              "    <g>\n",
              "        <path d=\"M19 3H5c-1.1 0-2 .9-2 2v14c0 1.1.9 2 2 2h14c1.1 0 2-.9 2-2V5c0-1.1-.9-2-2-2zM9 17H7v-7h2v7zm4 0h-2V7h2v10zm4 0h-2v-4h2v4z\"/>\n",
              "    </g>\n",
              "</svg>\n",
              "      </button>\n",
              "    </div>\n",
              "\n",
              "<style>\n",
              "  .colab-df-quickchart {\n",
              "    background-color: #E8F0FE;\n",
              "    border: none;\n",
              "    border-radius: 50%;\n",
              "    cursor: pointer;\n",
              "    display: none;\n",
              "    fill: #1967D2;\n",
              "    height: 32px;\n",
              "    padding: 0 0 0 0;\n",
              "    width: 32px;\n",
              "  }\n",
              "\n",
              "  .colab-df-quickchart:hover {\n",
              "    background-color: #E2EBFA;\n",
              "    box-shadow: 0px 1px 2px rgba(60, 64, 67, 0.3), 0px 1px 3px 1px rgba(60, 64, 67, 0.15);\n",
              "    fill: #174EA6;\n",
              "  }\n",
              "\n",
              "  [theme=dark] .colab-df-quickchart {\n",
              "    background-color: #3B4455;\n",
              "    fill: #D2E3FC;\n",
              "  }\n",
              "\n",
              "  [theme=dark] .colab-df-quickchart:hover {\n",
              "    background-color: #434B5C;\n",
              "    box-shadow: 0px 1px 3px 1px rgba(0, 0, 0, 0.15);\n",
              "    filter: drop-shadow(0px 1px 2px rgba(0, 0, 0, 0.3));\n",
              "    fill: #FFFFFF;\n",
              "  }\n",
              "</style>\n",
              "\n",
              "    <script>\n",
              "      async function quickchart(key) {\n",
              "        const containerElement = document.querySelector('#' + key);\n",
              "        const charts = await google.colab.kernel.invokeFunction(\n",
              "            'suggestCharts', [key], {});\n",
              "      }\n",
              "    </script>\n",
              "\n",
              "      <script>\n",
              "\n",
              "function displayQuickchartButton(domScope) {\n",
              "  let quickchartButtonEl =\n",
              "    domScope.querySelector('#df-a2f8960a-d877-4701-a096-433656e9f302 button.colab-df-quickchart');\n",
              "  quickchartButtonEl.style.display =\n",
              "    google.colab.kernel.accessAllowed ? 'block' : 'none';\n",
              "}\n",
              "\n",
              "        displayQuickchartButton(document);\n",
              "      </script>\n",
              "      <style>\n",
              "    .colab-df-container {\n",
              "      display:flex;\n",
              "      flex-wrap:wrap;\n",
              "      gap: 12px;\n",
              "    }\n",
              "\n",
              "    .colab-df-convert {\n",
              "      background-color: #E8F0FE;\n",
              "      border: none;\n",
              "      border-radius: 50%;\n",
              "      cursor: pointer;\n",
              "      display: none;\n",
              "      fill: #1967D2;\n",
              "      height: 32px;\n",
              "      padding: 0 0 0 0;\n",
              "      width: 32px;\n",
              "    }\n",
              "\n",
              "    .colab-df-convert:hover {\n",
              "      background-color: #E2EBFA;\n",
              "      box-shadow: 0px 1px 2px rgba(60, 64, 67, 0.3), 0px 1px 3px 1px rgba(60, 64, 67, 0.15);\n",
              "      fill: #174EA6;\n",
              "    }\n",
              "\n",
              "    [theme=dark] .colab-df-convert {\n",
              "      background-color: #3B4455;\n",
              "      fill: #D2E3FC;\n",
              "    }\n",
              "\n",
              "    [theme=dark] .colab-df-convert:hover {\n",
              "      background-color: #434B5C;\n",
              "      box-shadow: 0px 1px 3px 1px rgba(0, 0, 0, 0.15);\n",
              "      filter: drop-shadow(0px 1px 2px rgba(0, 0, 0, 0.3));\n",
              "      fill: #FFFFFF;\n",
              "    }\n",
              "  </style>\n",
              "\n",
              "      <script>\n",
              "        const buttonEl =\n",
              "          document.querySelector('#df-7742445e-dfbb-4189-a708-cb1d9f2ccad6 button.colab-df-convert');\n",
              "        buttonEl.style.display =\n",
              "          google.colab.kernel.accessAllowed ? 'block' : 'none';\n",
              "\n",
              "        async function convertToInteractive(key) {\n",
              "          const element = document.querySelector('#df-7742445e-dfbb-4189-a708-cb1d9f2ccad6');\n",
              "          const dataTable =\n",
              "            await google.colab.kernel.invokeFunction('convertToInteractive',\n",
              "                                                     [key], {});\n",
              "          if (!dataTable) return;\n",
              "\n",
              "          const docLinkHtml = 'Like what you see? Visit the ' +\n",
              "            '<a target=\"_blank\" href=https://colab.research.google.com/notebooks/data_table.ipynb>data table notebook</a>'\n",
              "            + ' to learn more about interactive tables.';\n",
              "          element.innerHTML = '';\n",
              "          dataTable['output_type'] = 'display_data';\n",
              "          await google.colab.output.renderOutput(dataTable, element);\n",
              "          const docLink = document.createElement('div');\n",
              "          docLink.innerHTML = docLinkHtml;\n",
              "          element.appendChild(docLink);\n",
              "        }\n",
              "      </script>\n",
              "    </div>\n",
              "  </div>\n"
            ]
          },
          "metadata": {},
          "execution_count": 13
        }
      ]
    },
    {
      "cell_type": "code",
      "source": [
        "df['categories'].value_counts()"
      ],
      "metadata": {
        "colab": {
          "base_uri": "https://localhost:8080/"
        },
        "id": "1-KmgK5nC9Nx",
        "outputId": "bdf01954-6c9e-49b6-bb1a-b9cb37f03eb9"
      },
      "execution_count": 14,
      "outputs": [
        {
          "output_type": "execute_result",
          "data": {
            "text/plain": [
              "astro-ph                                              61763\n",
              "hep-ph                                                48819\n",
              "hep-th                                                39882\n",
              "quant-ph                                              32795\n",
              "cond-mat.mes-hall                                     23858\n",
              "                                                      ...  \n",
              "stat.ML cs.IT cs.NA math.IT math.SP physics.med-ph        1\n",
              "cs.DB cs.AI cs.IR cs.SI                                   1\n",
              "cs.SI cs.IR cs.LG physics.soc-ph                          1\n",
              "stat.AP q-bio.NC stat.CO stat.ML                          1\n",
              "math.AT math.CT math.RT                                   1\n",
              "Name: categories, Length: 34023, dtype: int64"
            ]
          },
          "metadata": {},
          "execution_count": 14
        }
      ]
    },
    {
      "cell_type": "markdown",
      "source": [
        "#Evaluations"
      ],
      "metadata": {
        "id": "8qQ8IGimtl52"
      }
    },
    {
      "cell_type": "markdown",
      "source": [
        "First, lets compare the average number of citations between the first publication to the jornal publication date compared to the average number of citations after the jornal publication date"
      ],
      "metadata": {
        "id": "SO5j0bY2wYbr"
      }
    },
    {
      "cell_type": "code",
      "source": [
        "df_copy = df.copy()"
      ],
      "metadata": {
        "id": "v0I-XBkdxDk-"
      },
      "execution_count": 58,
      "outputs": []
    },
    {
      "cell_type": "code",
      "source": [
        "# df_copy = df_copy.iloc[0:100000]"
      ],
      "metadata": {
        "id": "RqTYf-bHwpqH"
      },
      "execution_count": 49,
      "outputs": []
    },
    {
      "cell_type": "code",
      "source": [
        "type(df_copy['date_citation_counts'])"
      ],
      "metadata": {
        "colab": {
          "base_uri": "https://localhost:8080/"
        },
        "id": "TAKIOcTEywfe",
        "outputId": "87ee8b98-2e2e-4062-ebfd-e123d0b5c007"
      },
      "execution_count": 22,
      "outputs": [
        {
          "output_type": "execute_result",
          "data": {
            "text/plain": [
              "pandas.core.series.Series"
            ]
          },
          "metadata": {},
          "execution_count": 22
        }
      ]
    },
    {
      "cell_type": "code",
      "source": [
        "df_copy['date_citation_counts']"
      ],
      "metadata": {
        "colab": {
          "base_uri": "https://localhost:8080/"
        },
        "id": "LWotlc-Iy2zV",
        "outputId": "a4601f77-0b29-4870-aa2e-9f5fcc32b107"
      },
      "execution_count": 23,
      "outputs": [
        {
          "output_type": "execute_result",
          "data": {
            "text/plain": [
              "0      {'2004-12-21': 1, '2004-12-23': 1, '2005-08-21...\n",
              "1      {'1996-02-21': 1, '1997-01-11': 1, '1997-01-14...\n",
              "2      {'2015-10-22': 1, '2016-09-28': 1, '2016-10-21...\n",
              "3      {'2011-06-11': 1, '2013-05-08': 1, '2013-10-24...\n",
              "4                     {'2012-10-25': 1, '2013-11-08': 1}\n",
              "                             ...                        \n",
              "495    {'2012-05-30': 1, '2012-10-01': 1, '2013-06-20...\n",
              "496    {'2004-02-11': 1, '2004-04-21': 1, '2004-04-25...\n",
              "497                                    {'2018-02-01': 1}\n",
              "498    {'2017-04-19': 1, '2019-02-13': 1, '2020-01-17...\n",
              "499    {'1998-01-20': 1, '1998-09-23': 1, '1999-04-16...\n",
              "Name: date_citation_counts, Length: 500, dtype: object"
            ]
          },
          "metadata": {},
          "execution_count": 23
        }
      ]
    },
    {
      "cell_type": "markdown",
      "source": [
        "convert the srt dict to python dict, and the different dtes to datetime objects"
      ],
      "metadata": {
        "id": "uwDW-d2Y62pN"
      }
    },
    {
      "cell_type": "code",
      "source": [
        "import ast\n",
        "from tqdm import tqdm\n",
        "tqdm.pandas()\n",
        "\n",
        "# Conversion of string representation of dictionary to dictionary\n",
        "df_copy['date_citation_counts'] = df_copy['date_citation_counts'].progress_apply(ast.literal_eval)\n",
        "\n",
        "# Conversion of string to datetime\n",
        "df_copy['first_publication_date'] = pd.to_datetime(df_copy['first_publication_date'])\n",
        "df_copy['journal_publication_date'] = pd.to_datetime(df_copy['journal_publication_date'])"
      ],
      "metadata": {
        "colab": {
          "base_uri": "https://localhost:8080/"
        },
        "id": "SDz1MUG96zy0",
        "outputId": "2ce3fbda-f6ea-455f-d803-a06d9d18cc18"
      },
      "execution_count": 59,
      "outputs": [
        {
          "output_type": "stream",
          "name": "stderr",
          "text": [
            "100%|██████████| 895927/895927 [01:48<00:00, 8285.24it/s] \n"
          ]
        }
      ]
    },
    {
      "cell_type": "code",
      "source": [
        "import pandas as pd\n",
        "import matplotlib.pyplot as plt\n",
        "from datetime import datetime\n",
        "import ast\n",
        "import numpy as np\n",
        "from tqdm import tqdm\n",
        "tqdm.pandas()\n",
        "\n",
        "# # Conversion of string representation of dictionary to dictionary\n",
        "# df_copy['date_citation_counts'] = df_copy['date_citation_counts'].apply(ast.literal_eval)\n",
        "\n",
        "# # Conversion of string to datetime\n",
        "# df_copy['first_publication_date'] = pd.to_datetime(df_copy['first_publication_date'])\n",
        "# df_copy['journal_publication_date'] = pd.to_datetime(df_copy['journal_publication_date'])\n",
        "\n",
        "# Function to compute average citations before and after journal publication\n",
        "def compute_avg_citations(row):\n",
        "    date_citations = {datetime.strptime(date, \"%Y-%m-%d\"): count for date, count in row['date_citation_counts'].items()}\n",
        "    pre_journal_citations = [count for date, count in date_citations.items() if date <= row['journal_publication_date']]\n",
        "    post_journal_citations = [count for date, count in date_citations.items() if date > row['journal_publication_date']]\n",
        "\n",
        "    sum_pre_journal_citation = sum(pre_journal_citations) #/ len(pre_journal_citations) if pre_journal_citations else 0\n",
        "    sum_post_journal_citation = sum(post_journal_citations) #/ len(post_journal_citations) if post_journal_citations else 0\n",
        "\n",
        "    return pd.Series([sum_pre_journal_citation, sum_post_journal_citation])\n",
        "\n",
        "# Apply the function to the DataFrame\n",
        "df_copy[['sum_pre_journal_citation', 'sum_post_journal_citation']] = df_copy.progress_apply(compute_avg_citations, axis=1)\n",
        "\n",
        "# Compute overall averages\n",
        "overall_avg_pre_journal_citation = np.mean(df_copy['sum_pre_journal_citation'])\n",
        "overall_avg_post_journal_citation = np.mean(df_copy['sum_post_journal_citation'])\n",
        "\n",
        "# Now let's plot it\n",
        "plt.figure(figsize=(10, 6))\n",
        "\n",
        "# Now let's plot it\n",
        "plt.figure(figsize=(10, 6))\n",
        "\n",
        "# Plot each bar individually, assign different colors and labels for the legend\n",
        "plt.bar('Pre journal publication', overall_avg_pre_journal_citation, color='blue', label='Pre journal publication')\n",
        "plt.bar('Post journal publication', overall_avg_post_journal_citation, color='orange', label='Post journal publication')\n",
        "\n",
        "plt.title('Average Citations Before and After Journal Publication')\n",
        "plt.ylabel('Average Citations')\n",
        "\n",
        "# Add a legend\n",
        "plt.legend()\n",
        "\n",
        "plt.show()\n"
      ],
      "metadata": {
        "colab": {
          "base_uri": "https://localhost:8080/",
          "height": 580
        },
        "id": "D0t5JmW7zxBG",
        "outputId": "c2ad7f8d-ec9f-41a2-e105-12037ce72388"
      },
      "execution_count": 60,
      "outputs": [
        {
          "output_type": "stream",
          "name": "stderr",
          "text": [
            "100%|██████████| 895927/895927 [10:22<00:00, 1439.11it/s]\n"
          ]
        },
        {
          "output_type": "display_data",
          "data": {
            "text/plain": [
              "<Figure size 1000x600 with 0 Axes>"
            ]
          },
          "metadata": {}
        },
        {
          "output_type": "display_data",
          "data": {
            "text/plain": [
              "<Figure size 1000x600 with 1 Axes>"
            ],
            "image/png": "[encoded data removed]"
          },
          "metadata": {}
        }
      ]
    },
    {
      "cell_type": "code",
      "source": [
        "print(f\"overall_avg_pre_journal_citation: {overall_avg_pre_journal_citation}\")\n",
        "print(f\"overall_avg_post_journal_citation: {overall_avg_post_journal_citation}\")"
      ],
      "metadata": {
        "colab": {
          "base_uri": "https://localhost:8080/"
        },
        "id": "7EdEDRne__bl",
        "outputId": "ec544a00-079e-47f6-bcf9-2633aa903b43"
      },
      "execution_count": 62,
      "outputs": [
        {
          "output_type": "stream",
          "name": "stdout",
          "text": [
            "overall_avg_pre_journal_citation: 0.7252532851448834\n",
            "overall_avg_post_journal_citation: 22.684194136352627\n"
          ]
        }
      ]
    },
    {
      "cell_type": "markdown",
      "source": [
        "Now the mean can be less informative if we have too many outlayers so we will also plot the median"
      ],
      "metadata": {
        "id": "Biki3t_17ES9"
      }
    },
    {
      "cell_type": "code",
      "source": [
        "# Compute overall averages\n",
        "overall_median_pre_journal_citation = np.median(df_copy['sum_pre_journal_citation'])\n",
        "overall_median_post_journal_citation = np.median(df_copy['sum_post_journal_citation'])\n",
        "\n",
        "# Now let's plot it\n",
        "plt.figure(figsize=(10, 6))\n",
        "\n",
        "# Now let's plot it\n",
        "plt.figure(figsize=(10, 6))\n",
        "\n",
        "# Plot each bar individually, assign different colors and labels for the legend\n",
        "plt.bar('Pre journal publication', overall_median_pre_journal_citation, color='blue', label='Pre journal publication')\n",
        "plt.bar('Post journal publication', overall_median_post_journal_citation, color='orange', label='Post journal publication')\n",
        "\n",
        "plt.title('Citations Median Before and After Journal Publication')\n",
        "plt.ylabel('Citations Median')\n",
        "\n",
        "# Add a legend\n",
        "plt.legend()"
      ],
      "metadata": {
        "colab": {
          "base_uri": "https://localhost:8080/",
          "height": 580
        },
        "id": "vnXDh66l7PPx",
        "outputId": "f6df1d3b-111d-4583-d2d3-249347878f21"
      },
      "execution_count": 61,
      "outputs": [
        {
          "output_type": "execute_result",
          "data": {
            "text/plain": [
              "<matplotlib.legend.Legend at 0x7d61422b7df0>"
            ]
          },
          "metadata": {},
          "execution_count": 61
        },
        {
          "output_type": "display_data",
          "data": {
            "text/plain": [
              "<Figure size 1000x600 with 0 Axes>"
            ]
          },
          "metadata": {}
        },
        {
          "output_type": "display_data",
          "data": {
            "text/plain": [
              "<Figure size 1000x600 with 1 Axes>"
            ],
            "image/png": "[encoded data removed]"
          },
          "metadata": {}
        }
      ]
    },
    {
      "cell_type": "code",
      "source": [
        "print(f\"overall_median_pre_journal_citation: {overall_median_pre_journal_citation}\")\n",
        "print(f\"overall_median_post_journal_citation: {overall_median_post_journal_citation}\")"
      ],
      "metadata": {
        "colab": {
          "base_uri": "https://localhost:8080/"
        },
        "id": "Em_RCSPHAWi2",
        "outputId": "2241ad68-8a68-4a4f-d166-d6fbf62a872b"
      },
      "execution_count": 63,
      "outputs": [
        {
          "output_type": "stream",
          "name": "stdout",
          "text": [
            "overall_median_pre_journal_citation: 0.0\n",
            "overall_median_post_journal_citation: 8.0\n"
          ]
        }
      ]
    }
  ]
}